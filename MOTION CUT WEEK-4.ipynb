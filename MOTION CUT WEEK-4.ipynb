{
 "cells": [
  {
   "cell_type": "code",
   "execution_count": null,
   "id": "ff732216",
   "metadata": {},
   "outputs": [
    {
     "name": "stdout",
     "output_type": "stream",
     "text": [
      "Welcome to the Text-Based Adventure Game!\n",
      "You find yourself in a dark forest. You can go left or right. What do you choose? (left/right) \n",
      "right\n",
      "You arrive at a riverbank. You see a boat. Do you take the boat across the river? (yes/no) \n",
      "yes\n",
      "You safely cross the river and arrive at a peaceful village. You've completed your adventure!\n"
     ]
    }
   ],
   "source": [
    "import time\n",
    "\n",
    "# Define the game's storyline and decision points\n",
    "story = {\n",
    "    'start': {\n",
    "        'text': \"You find yourself in a dark forest. You can go left or right. What do you choose? (left/right) \",\n",
    "        'choices': {\n",
    "            'left': 'cave',\n",
    "            'right': 'riverbank'\n",
    "        }\n",
    "    },\n",
    "    'cave': {\n",
    "        'text': \"You enter a cave and discover a treasure chest. Do you open it? (yes/no) \",\n",
    "        'choices': {\n",
    "            'yes': 'treasure',\n",
    "            'no': 'safe'\n",
    "        }\n",
    "    },\n",
    "    'treasure': {\n",
    "        'text': \"Congratulations! You found a chest full of gold. You win the game!\",\n",
    "        'choices': {}\n",
    "    },\n",
    "    'safe': {\n",
    "        'text': \"You play it safe and avoid the treasure. You make it out of the cave and continue your journey.\",\n",
    "        'choices': {}\n",
    "    },\n",
    "    'riverbank': {\n",
    "        'text': \"You arrive at a riverbank. You see a boat. Do you take the boat across the river? (yes/no) \",\n",
    "        'choices': {\n",
    "            'yes': 'village',\n",
    "            'no': 'swim'\n",
    "        }\n",
    "    },\n",
    "    'village': {\n",
    "        'text': \"You safely cross the river and arrive at a peaceful village. You've completed your adventure!\",\n",
    "        'choices': {}\n",
    "    },\n",
    "    'swim': {\n",
    "        'text': \"You decide to swim across the river. Unfortunately, you get swept away by the current and lose the game.\",\n",
    "        'choices': {}\n",
    "    }\n",
    "}\n",
    "\n",
    "# Function to handle user input and navigate through the game\n",
    "def play_game():\n",
    "    current_scene = 'start'\n",
    "\n",
    "    while current_scene:\n",
    "        scene = story[current_scene]\n",
    "        print(scene['text'])\n",
    "\n",
    "        user_input = input().strip().lower()\n",
    "\n",
    "        if user_input in scene['choices']:\n",
    "            current_scene = scene['choices'][user_input]\n",
    "        else:\n",
    "            print(\"Invalid choice. Please try again.\")\n",
    "\n",
    "# Start the game\n",
    "print(\"Welcome to the Text-Based Adventure Game!\")\n",
    "play_game()\n",
    "\n",
    "print(\"Thanks for playing!\")\n"
   ]
  },
  {
   "cell_type": "code",
   "execution_count": null,
   "id": "c12060ef",
   "metadata": {},
   "outputs": [],
   "source": []
  }
 ],
 "metadata": {
  "kernelspec": {
   "display_name": "Python 3 (ipykernel)",
   "language": "python",
   "name": "python3"
  },
  "language_info": {
   "codemirror_mode": {
    "name": "ipython",
    "version": 3
   },
   "file_extension": ".py",
   "mimetype": "text/x-python",
   "name": "python",
   "nbconvert_exporter": "python",
   "pygments_lexer": "ipython3",
   "version": "3.11.5"
  }
 },
 "nbformat": 4,
 "nbformat_minor": 5
}
